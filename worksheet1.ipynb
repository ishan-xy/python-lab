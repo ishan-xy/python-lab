{
  "nbformat": 4,
  "nbformat_minor": 0,
  "metadata": {
    "colab": {
      "provenance": [],
      "authorship_tag": "ABX9TyPzT77KUQvBiqNmsfft2Qsp",
      "include_colab_link": true
    },
    "kernelspec": {
      "name": "python3",
      "display_name": "Python 3"
    },
    "language_info": {
      "name": "python"
    }
  },
  "cells": [
    {
      "cell_type": "markdown",
      "metadata": {
        "id": "view-in-github",
        "colab_type": "text"
      },
      "source": [
        "<a href=\"https://colab.research.google.com/github/ishan-xy/python-lab/blob/main/worksheet1.ipynb\" target=\"_parent\"><img src=\"https://colab.research.google.com/assets/colab-badge.svg\" alt=\"Open In Colab\"/></a>"
      ]
    },
    {
      "cell_type": "markdown",
      "source": [
        "1. Write a Python program to print the following string in a specific format (see the\n",
        "output). Sample String : \"Twinkle, twinkle, little star, How I wonder what you are! Up above\n",
        "the world so high, Like a diamond in the sky. Twinkle, twinkle, little star, How I wonder what\n",
        "you are\""
      ],
      "metadata": {
        "id": "52b5zTYi-hqi"
      }
    },
    {
      "cell_type": "code",
      "execution_count": null,
      "metadata": {
        "colab": {
          "base_uri": "https://localhost:8080/"
        },
        "id": "frGYJAzb967c",
        "outputId": "b84a88e2-f9ce-427e-92d7-d8f33f3e9655"
      },
      "outputs": [
        {
          "output_type": "stream",
          "name": "stdout",
          "text": [
            "Twinkle, twinkle, little star,\n",
            "How I wonder what you are!\n",
            "Up above the world so high,\n",
            "Like a diamond in the sky.\n",
            "Twinkle, twinkle, little star,\n",
            "How I wonder what you are\n"
          ]
        }
      ],
      "source": [
        "print(\"Twinkle, twinkle, little star,\\nHow I wonder what you are!\\nUp above the world so high,\\nLike a diamond in the sky.\\nTwinkle, twinkle, little star,\\nHow I wonder what you are\")"
      ]
    },
    {
      "cell_type": "markdown",
      "source": [
        "2. Write a Python program that accepts the user's first and last name and prints them in\n",
        "reverse order with a space between them"
      ],
      "metadata": {
        "id": "4Z9-J97Q-0MF"
      }
    },
    {
      "cell_type": "code",
      "source": [
        "fname = input(\"Input your First Name : \")\n",
        "lname = input(\"Input your Last Name : \")\n",
        "print (\"Hello  \" + lname + \" \" + fname)\n"
      ],
      "metadata": {
        "colab": {
          "base_uri": "https://localhost:8080/"
        },
        "id": "nWlEuwW1-2cJ",
        "outputId": "300b0979-7c1c-4c8d-9c2c-dc55c1ebc013"
      },
      "execution_count": null,
      "outputs": [
        {
          "output_type": "stream",
          "name": "stdout",
          "text": [
            "Input your First Name : Ishan\n",
            "Input your Last Name : Singla\n",
            "Hello  Singla Ishan\n"
          ]
        }
      ]
    },
    {
      "cell_type": "markdown",
      "source": [
        "3. Write a Python program that calculates the area of a circle based on the radius entered by the user."
      ],
      "metadata": {
        "id": "Y-prFs2T-_5K"
      }
    },
    {
      "cell_type": "code",
      "source": [
        "from math import pi\n",
        "r = float(input (\"Input the radius of the circle : \"))\n",
        "print (\"The area of the circle with radius \" + str(r) + \" is: \" + str(pi * r**2))"
      ],
      "metadata": {
        "colab": {
          "base_uri": "https://localhost:8080/"
        },
        "id": "5Ip4zoWr_bCN",
        "outputId": "760f87b8-22be-4a2f-dfcc-8389908c2a09"
      },
      "execution_count": null,
      "outputs": [
        {
          "output_type": "stream",
          "name": "stdout",
          "text": [
            "Input the radius of the circle : 5\n",
            "The area of the circle with radius 5.0 is: 78.53981633974483\n"
          ]
        }
      ]
    },
    {
      "cell_type": "markdown",
      "source": [
        "4. Write a Python program to display the first and last colors from the following list.  \n",
        "color_list = [\"Red\",\"Green\",\"White\" ,\"Black\"]"
      ],
      "metadata": {
        "id": "VvNwSZK1_gw5"
      }
    },
    {
      "cell_type": "code",
      "source": [
        "color_list = [\"Red\",\"Green\",\"White\" ,\"Black\"]\n",
        "print(color_list[0], color_list[-1])\n"
      ],
      "metadata": {
        "colab": {
          "base_uri": "https://localhost:8080/"
        },
        "id": "VPfGWOpT_kXB",
        "outputId": "3bf2ede2-ad44-4936-8548-5cc9cea16df5"
      },
      "execution_count": null,
      "outputs": [
        {
          "output_type": "stream",
          "name": "stdout",
          "text": [
            "Red Black\n"
          ]
        }
      ]
    },
    {
      "cell_type": "markdown",
      "source": [
        "5. Write a Python program that accepts an integer (n) and computes the value of\n",
        "n+nn+nnn"
      ],
      "metadata": {
        "id": "foGUfdmw_tXG"
      }
    },
    {
      "cell_type": "code",
      "source": [
        "n = input(\"Enter an integer: \")\n",
        "result = int(n) + int(n*2) + int(n*3)\n",
        "print(result)"
      ],
      "metadata": {
        "colab": {
          "base_uri": "https://localhost:8080/"
        },
        "id": "Z5KFHVG8_vKL",
        "outputId": "a8beb403-136b-4574-93a5-b049fc4c11fd"
      },
      "execution_count": null,
      "outputs": [
        {
          "output_type": "stream",
          "name": "stdout",
          "text": [
            "Enter an integer: 5\n",
            "615\n"
          ]
        }
      ]
    },
    {
      "cell_type": "markdown",
      "source": [
        "6. Write a Python program that accepts a sequence of comma-separated numbers from the\n",
        "user and generates a list and a tuple of those numbers. Sample data : 3, 5, 7, 23"
      ],
      "metadata": {
        "id": "-LL9uelWABZr"
      }
    },
    {
      "cell_type": "code",
      "source": [
        "numbers = input(\"Enter comma-separated numbers: \")\n",
        "num_list = numbers.split(\",\")\n",
        "num_tuple = tuple(num_list)\n",
        "print(num_list)\n",
        "print(num_tuple)"
      ],
      "metadata": {
        "colab": {
          "base_uri": "https://localhost:8080/"
        },
        "id": "RYyOczn2AFn0",
        "outputId": "c52e3bc6-63e4-41b9-924b-a986ba2c2e5f"
      },
      "execution_count": null,
      "outputs": [
        {
          "output_type": "stream",
          "name": "stdout",
          "text": [
            "Enter comma-separated numbers: 1,2,3,4,5\n",
            "['1', '2', '3', '4', '5']\n",
            "('1', '2', '3', '4', '5')\n"
          ]
        }
      ]
    },
    {
      "cell_type": "markdown",
      "source": [
        "7. Write a program that will convert celsius value to Fahrenheit."
      ],
      "metadata": {
        "id": "2MzgBBMBAZkS"
      }
    },
    {
      "cell_type": "code",
      "source": [
        "celsius = float(input(\"Enter temperature in Celsius: \"))\n",
        "fahrenheit = (celsius * 9/5) + 32\n",
        "print(\"Temperature in Fahrenheit:\", fahrenheit)"
      ],
      "metadata": {
        "colab": {
          "base_uri": "https://localhost:8080/"
        },
        "id": "OJuEdNgaAJ7F",
        "outputId": "a7533d36-93b9-4fc6-a358-fa0b815c3128"
      },
      "execution_count": null,
      "outputs": [
        {
          "output_type": "stream",
          "name": "stdout",
          "text": [
            "Enter temperature in Celsius: 100\n",
            "Temperature in Fahrenheit: 212.0\n"
          ]
        }
      ]
    },
    {
      "cell_type": "markdown",
      "source": [
        "8. User will input (2numbers). Write a program to swap the numbers. Add incrementally\n",
        "in any one variable."
      ],
      "metadata": {
        "id": "tKr1xYW_Aio2"
      }
    },
    {
      "cell_type": "code",
      "source": [
        "a = int(input(\"Enter first number: \"))\n",
        "b = int(input(\"Enter second number: \"))\n",
        "a, b = b, a + 1\n",
        "print(\"Swapped and incremented values:\", a, b)"
      ],
      "metadata": {
        "colab": {
          "base_uri": "https://localhost:8080/"
        },
        "id": "p4nPeQRvAmAG",
        "outputId": "b6ebb407-7531-487c-d0b6-14a1d670b5f7"
      },
      "execution_count": null,
      "outputs": [
        {
          "output_type": "stream",
          "name": "stdout",
          "text": [
            "Enter first number: 5\n",
            "Enter second number: 6\n",
            "Swapped and incremented values: 6 6\n"
          ]
        }
      ]
    },
    {
      "cell_type": "markdown",
      "source": [
        "9. Write a program that will tell whether the number entered by the user is odd or even."
      ],
      "metadata": {
        "id": "Dp_oUkL2Arn2"
      }
    },
    {
      "cell_type": "code",
      "source": [
        "num = int(input(\"Enter a number: \"))\n",
        "if num % 2 == 0:\n",
        "    print(\"Even\")\n",
        "else:\n",
        "    print(\"Odd\")"
      ],
      "metadata": {
        "colab": {
          "base_uri": "https://localhost:8080/"
        },
        "id": "9kdW7AnXAuh1",
        "outputId": "0082c871-e7f9-4f4a-bcb7-10c1ebb3186d"
      },
      "execution_count": null,
      "outputs": [
        {
          "output_type": "stream",
          "name": "stdout",
          "text": [
            "Enter a number: 68\n",
            "Even\n"
          ]
        }
      ]
    },
    {
      "cell_type": "markdown",
      "source": [
        "10. Write a program that will tell whether the given year is a leap year or not."
      ],
      "metadata": {
        "id": "Jm8ciBvdA2XQ"
      }
    },
    {
      "cell_type": "code",
      "source": [
        "year = int(input(\"Enter a year: \"))\n",
        "if (year % 4 == 0 and year % 100 != 0) or (year % 400 == 0):\n",
        "    print(\"Leap year\")\n",
        "else:\n",
        "    print(\"Not a leap year\")"
      ],
      "metadata": {
        "colab": {
          "base_uri": "https://localhost:8080/"
        },
        "id": "cjzpL9DNA55m",
        "outputId": "f6ea47bc-3222-463d-9ce4-84e193a91940"
      },
      "execution_count": null,
      "outputs": [
        {
          "output_type": "stream",
          "name": "stdout",
          "text": [
            "Enter a year: 400\n",
            "Leap year\n"
          ]
        }
      ]
    },
    {
      "cell_type": "markdown",
      "source": [
        "11. Write a program to find the euclidean distance between two coordinates."
      ],
      "metadata": {
        "id": "JqaJOS-rBDBB"
      }
    },
    {
      "cell_type": "code",
      "source": [
        "import math\n",
        "\n",
        "# Get coordinates from the user\n",
        "x1 = float(input(\"Enter x-coordinate of the first point: \"))\n",
        "y1 = float(input(\"Enter y-coordinate of the first point: \"))\n",
        "x2 = float(input(\"Enter x-coordinate of the second point: \"))\n",
        "y2 = float(input(\"Enter y-coordinate of the second point: \"))\n",
        "\n",
        "# Calculate and print the distance\n",
        "distance = math.sqrt((x2 - x1)**2 + (y2 - y1)**2)\n",
        "print(\"Euclidean distance:\", distance)"
      ],
      "metadata": {
        "colab": {
          "base_uri": "https://localhost:8080/"
        },
        "id": "LkbPapCjBaGK",
        "outputId": "f7a69465-1497-4cc8-a896-3c3931d8736e"
      },
      "execution_count": null,
      "outputs": [
        {
          "output_type": "stream",
          "name": "stdout",
          "text": [
            "Enter x-coordinate of the first point: 0\n",
            "Enter y-coordinate of the first point: 0\n",
            "Enter x-coordinate of the second point: 5\n",
            "Enter y-coordinate of the second point: 5\n",
            "Euclidean distance: 7.0710678118654755\n"
          ]
        }
      ]
    },
    {
      "cell_type": "markdown",
      "source": [
        "12. Write a program that take a user input of three angles and will find out whether it can\n",
        "form a triangle or not."
      ],
      "metadata": {
        "id": "RWRDXd6NBgK7"
      }
    },
    {
      "cell_type": "code",
      "source": [
        "angle1 = int(input(\"Enter first angle: \"))\n",
        "angle2 = int(input(\"Enter second angle: \"))\n",
        "angle3 = int(input(\"Enter third angle: \"))\n",
        "\n",
        "if angle1 <= 0 or angle2 <= 0 or angle3 <= 0:\n",
        "    print(\"Angles cannot be zero or negative\")\n",
        "elif angle1 + angle2 + angle3 == 180:\n",
        "    print(\"It can form a triangle\")\n",
        "else:\n",
        "    print(\"It cannot form a triangle\")\n"
      ],
      "metadata": {
        "colab": {
          "base_uri": "https://localhost:8080/"
        },
        "id": "nF5qhP-aBhfK",
        "outputId": "f80f2c0c-f394-4377-ff63-af1f1e0efbb7"
      },
      "execution_count": null,
      "outputs": [
        {
          "output_type": "stream",
          "name": "stdout",
          "text": [
            "Enter first angle: 90\n",
            "Enter second angle: 90\n",
            "Enter third angle: 0\n",
            "Angles cannot be zero or negative\n"
          ]
        }
      ]
    },
    {
      "cell_type": "markdown",
      "source": [
        "13. WAP to find compound interest for given values."
      ],
      "metadata": {
        "id": "EgYSNCAPBz_h"
      }
    },
    {
      "cell_type": "code",
      "source": [
        "principal = float(input(\"Enter principal amount: \"))\n",
        "rate = float(input(\"Enter rate of interest: \"))\n",
        "time = float(input(\"Enter time in years: \"))\n",
        "amount = principal * (1 + rate / 100) ** time\n",
        "compound_interest = amount - principal\n",
        "print(\"Compound Interest:\", compound_interest)"
      ],
      "metadata": {
        "colab": {
          "base_uri": "https://localhost:8080/"
        },
        "id": "Y_pppNlsB1ak",
        "outputId": "730db07a-6b4d-4abe-e026-98777f84267d"
      },
      "execution_count": null,
      "outputs": [
        {
          "output_type": "stream",
          "name": "stdout",
          "text": [
            "Enter principal amount: 10000\n",
            "Enter rate of interest: 5\n",
            "Enter time in years: 5\n",
            "Compound Interest: 2762.815625000003\n"
          ]
        }
      ]
    },
    {
      "cell_type": "markdown",
      "source": [
        "14. Given a positive integer N, the task is to write a Python program to check if the number\n",
        "is Prime or not in Python."
      ],
      "metadata": {
        "id": "7_Aqhz_RB7Gs"
      }
    },
    {
      "cell_type": "code",
      "source": [
        "num = int(input(\"Enter a number: \"))\n",
        "if num > 1:\n",
        "    for i in range(2, int(num**0.5) + 1):\n",
        "        if num % i == 0:\n",
        "            print(\"Not Prime\")\n",
        "            break\n",
        "    else:\n",
        "        print(\"Prime\")\n",
        "else:\n",
        "    print(\"Not Prime\")"
      ],
      "metadata": {
        "colab": {
          "base_uri": "https://localhost:8080/"
        },
        "id": "n0ruHwZoB_DX",
        "outputId": "f39a37c2-097c-40da-b9fd-d76245eae093"
      },
      "execution_count": null,
      "outputs": [
        {
          "output_type": "stream",
          "name": "stdout",
          "text": [
            "Enter a number: 5\n",
            "Prime\n"
          ]
        }
      ]
    },
    {
      "cell_type": "markdown",
      "source": [
        "15. Given a positive integer N. The task is to find 12 + 22 + 32 + ….. + N2."
      ],
      "metadata": {
        "id": "utZCYfk1CNgs"
      }
    },
    {
      "cell_type": "code",
      "source": [
        "n = int(input(\"Enter a positive integer: \"))\n",
        "sum_of_squares = sum(i**2 for i in range(1, n + 1))\n",
        "print(\"Sum of squares:\", sum_of_squares)"
      ],
      "metadata": {
        "colab": {
          "base_uri": "https://localhost:8080/"
        },
        "id": "HrcnKlf6COuR",
        "outputId": "b04ee39b-2c30-4249-809c-aa5859d0a1e4"
      },
      "execution_count": null,
      "outputs": [
        {
          "output_type": "stream",
          "name": "stdout",
          "text": [
            "Enter a positive integer: 10\n",
            "Sum of squares: 385\n"
          ]
        }
      ]
    }
  ]
}