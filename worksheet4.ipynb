{
 "cells": [
  {
   "cell_type": "markdown",
   "metadata": {},
   "source": [
    "Question 1: Array Creation  \n",
    "1.1 Create a 1D array of integers from 5 to 25 using NumPy. "
   ]
  },
  {
   "cell_type": "code",
   "execution_count": 19,
   "metadata": {},
   "outputs": [
    {
     "name": "stdout",
     "output_type": "stream",
     "text": [
      "[ 5  6  7  8  9 10 11 12 13 14 15 16 17 18 19 20 21 22 23 24]\n"
     ]
    }
   ],
   "source": [
    "import numpy as np\n",
    "\n",
    "arr1 = np.arange(5,25)\n",
    "print(arr1)"
   ]
  },
  {
   "cell_type": "markdown",
   "metadata": {},
   "source": [
    "1.2 Create a 2D array with 3 rows and 4 columns filled with random integers between 10 and 50. "
   ]
  },
  {
   "cell_type": "code",
   "execution_count": 18,
   "metadata": {},
   "outputs": [
    {
     "name": "stdout",
     "output_type": "stream",
     "text": [
      "[[44 17 11 20]\n",
      " [33 14 20 19]\n",
      " [48 41 17 25]]\n"
     ]
    }
   ],
   "source": [
    "arr2 = np.random.randint(10, 50, size=(3, 4))\n",
    "print(arr2)"
   ]
  },
  {
   "cell_type": "markdown",
   "metadata": {},
   "source": [
    "Ques on 2: Array Atributes  \n",
    "2.1 For the 1D array created in Question 1.1, find, and print its: \n",
    " Shape \n",
    " Size \n",
    " Data type\n",
    "2.2 For the 2D array created in Question 1.2, find, and print its: \n",
    " Shape \n",
    " Size \n",
    " Data type"
   ]
  },
  {
   "cell_type": "code",
   "execution_count": 12,
   "metadata": {},
   "outputs": [
    {
     "name": "stdout",
     "output_type": "stream",
     "text": [
      "shape: (20,)\n",
      "size: 20\n",
      "dtype: float64\n"
     ]
    }
   ],
   "source": [
    "# array 1\n",
    "print(\"shape:\",arr1.shape)\n",
    "print(\"size:\",arr1.size)\n",
    "print(\"dtype:\",arr1.dtype)"
   ]
  },
  {
   "cell_type": "code",
   "execution_count": 13,
   "metadata": {},
   "outputs": [
    {
     "name": "stdout",
     "output_type": "stream",
     "text": [
      "shape: (3, 4)\n",
      "size: 12\n",
      "dtype: float64\n"
     ]
    }
   ],
   "source": [
    "# array 2\n",
    "print(\"shape:\",arr2.shape)\n",
    "print(\"size:\",arr2.size)\n",
    "print(\"dtype:\",arr2.dtype)"
   ]
  },
  {
   "cell_type": "markdown",
   "metadata": {},
   "source": [
    "Ques on 3: Array Operations  \n",
    "3.1 Create two 1D arrays:<br>\n",
    "Array1: [2, 4, 6, 8, 10]<br>\n",
    "Array2: [1, 3, 5, 7, 9] <br>\n",
    "3.2 Perform the following operations and print the results: <br>\n",
    " Addition<br>\n",
    " Subtraction <br>\n",
    " Element-wise multiplication <br>\n",
    " Element-wise division<br>"
   ]
  },
  {
   "cell_type": "code",
   "execution_count": 14,
   "metadata": {},
   "outputs": [
    {
     "name": "stdout",
     "output_type": "stream",
     "text": [
      "Addition: [ 3  7 11 15 19]\n",
      "Subtraction: [1 1 1 1 1]\n",
      "Multiplication: [ 2 12 30 56 90]\n",
      "Division: [2.         1.33333333 1.2        1.14285714 1.11111111]\n"
     ]
    }
   ],
   "source": [
    "my_arr1 = np.array([2,4,6,8,10])\n",
    "my_arr2 = np.array([1,3,5,7,9])\n",
    "\n",
    "print(\"Addition:\",my_arr1 + my_arr2)\n",
    "print(\"Subtraction:\",my_arr1 - my_arr2)\n",
    "print(\"Multiplication:\",my_arr1 * my_arr2)\n",
    "print(\"Division:\",my_arr1 / my_arr2)"
   ]
  },
  {
   "cell_type": "markdown",
   "metadata": {},
   "source": [
    "Question 4: Broadcasting <br>\n",
    "4.1 Create a 2D array of shape (3, 3) with values starting from 1 to 9. <br>\n",
    "4.2 Using broadcasting, multiply this 2D array by a scalar value of 5. Print the result."
   ]
  },
  {
   "cell_type": "code",
   "execution_count": 21,
   "metadata": {},
   "outputs": [
    {
     "name": "stdout",
     "output_type": "stream",
     "text": [
      "[[1 2 3]\n",
      " [4 5 6]\n",
      " [7 8 9]]\n",
      "Multiplication by scalar:\n",
      " [[ 5 10 15]\n",
      " [20 25 30]\n",
      " [35 40 45]]\n"
     ]
    }
   ],
   "source": [
    "arr2d = np.arange(1,10).reshape(3,3)\n",
    "print(arr2d)\n",
    "scalar = 5\n",
    "print(\"Multiplication by scalar:\\n\",arr2d * scalar)"
   ]
  },
  {
   "cell_type": "markdown",
   "metadata": {},
   "source": [
    "Question 5: Slicing and Indexing  <br>\n",
    "5.1 Create a 2D array of shape (4, 4) with values ranging from 10 to 25. <br>\n",
    "5.2 Extract the second row and the last column of the array. <br>\n",
    "5.3 Replace the elements of the first row with zeros."
   ]
  },
  {
   "cell_type": "code",
   "execution_count": 28,
   "metadata": {},
   "outputs": [
    {
     "name": "stdout",
     "output_type": "stream",
     "text": [
      "[[10 11 12 13]\n",
      " [14 15 16 17]\n",
      " [18 19 20 21]\n",
      " [22 23 24 25]]\n",
      "Column 2: [11 15 19 23]\n",
      "Last Column: [13 17 21 25]\n",
      "new array:\n",
      " [[ 0  0  0  0]\n",
      " [14 15 16 17]\n",
      " [18 19 20 21]\n",
      " [22 23 24 25]]\n"
     ]
    }
   ],
   "source": [
    "arr5_1 = np.arange(10,26).reshape(4,4)\n",
    "print(arr5_1)\n",
    "col2 = arr5_1[:,1]\n",
    "print(\"Column 2:\",col2)\n",
    "col_last = arr5_1[:,-1]\n",
    "print(\"Last Column:\",col_last)\n",
    "arr5_1[0,:] = 0\n",
    "print(\"new array:\\n\",arr5_1)"
   ]
  },
  {
   "cell_type": "markdown",
   "metadata": {},
   "source": [
    "Question 6: Boolean Indexing  <br>\n",
    "6.1 Create a 1D array with random integers between 20 and 40 (10 elements). <br>\n",
    "6.2 Use Boolean indexing to find all elements greater than 30."
   ]
  },
  {
   "cell_type": "code",
   "execution_count": 34,
   "metadata": {},
   "outputs": [
    {
     "name": "stdout",
     "output_type": "stream",
     "text": [
      "Boolean Array: [20 22 23 26 26 31 32 37 38 38]\n",
      "Boolean Array > 30:\n",
      " [31 32 37 38 38]\n"
     ]
    }
   ],
   "source": [
    "rand_Arr = np.random.randint(20,40, size=10)\n",
    "rand_Arr.sort()\n",
    "print(\"Boolean Array:\",rand_Arr)\n",
    "bool_arr = rand_Arr[rand_Arr>30]\n",
    "print(\"Boolean Array > 30:\\n\",bool_arr)"
   ]
  },
  {
   "cell_type": "markdown",
   "metadata": {},
   "source": [
    "Question 7: Reshaping  <br>\n",
    "7.1 Create a 1D array with 12 elements starting from 11. <br>\n",
    "7.2 Reshape it into a 2D array of shape (3, 4). Print the reshaped array."
   ]
  },
  {
   "cell_type": "code",
   "execution_count": 35,
   "metadata": {},
   "outputs": [
    {
     "name": "stdout",
     "output_type": "stream",
     "text": [
      "[[11 12 13 14]\n",
      " [15 16 17 18]\n",
      " [19 20 21 22]]\n"
     ]
    }
   ],
   "source": [
    "arr7_1 = np.arange(11, 11+12)\n",
    "arr7_2 = arr7_1.reshape(3,4)\n",
    "print(arr7_2)"
   ]
  },
  {
   "cell_type": "markdown",
   "metadata": {},
   "source": [
    "Question 8: Matrix Operations  <br>\n",
    "8.1 Create two 2x2 matrices: <br>\n",
    " Matrix A: [[1, 2], [3, 4]] <br>\n",
    " Matrix B: [[5, 6], [7, 8]] <br>\n",
    "8.2 Perform and print the results of the following operations: <br>\n",
    " Matrix multiplication <br>\n",
    " Transpose of Matrix A "
   ]
  },
  {
   "cell_type": "code",
   "execution_count": 37,
   "metadata": {},
   "outputs": [
    {
     "name": "stdout",
     "output_type": "stream",
     "text": [
      "Matrix A:\n",
      " [[1 2]\n",
      " [3 4]]\n",
      "Matrix B:\n",
      " [[5 6]\n",
      " [7 8]]\n",
      "Matrix Multiplication:\n",
      " [[19 22]\n",
      " [43 50]]\n",
      "Transpose of Matrix A:\n",
      " [[1 3]\n",
      " [2 4]]\n"
     ]
    }
   ],
   "source": [
    "mat_a = np.matrix([[1,2], [3,4]])\n",
    "mat_b = np.matrix([[5,6], [7,8]])\n",
    "print(\"Matrix A:\\n\",mat_a)\n",
    "print(\"Matrix B:\\n\",mat_b)\n",
    "print(\"Matrix Multiplication:\\n\",mat_a * mat_b)\n",
    "print(\"Transpose of Matrix A:\\n\",mat_a.T)"
   ]
  },
  {
   "cell_type": "markdown",
   "metadata": {},
   "source": [
    "9.1 Create a 1D array with random integers between 10 and 60 (15 elements). \n",
    "9.2 Compute and print the following statistics: \n",
    " Mean \n",
    " Median \n",
    " Standard deviation"
   ]
  },
  {
   "cell_type": "code",
   "execution_count": 39,
   "metadata": {},
   "outputs": [
    {
     "name": "stdout",
     "output_type": "stream",
     "text": [
      "Array:\n",
      " [38 17 41 34 31 49 21 10 52 29 28 43 32 32 22]\n",
      "Mean: 31.933333333333334\n",
      "Median: 32.0\n",
      "Standard Deviation: 11.215861783900316\n"
     ]
    }
   ],
   "source": [
    "arr9_1 = np.random.randint(10, 60, size=15)\n",
    "mean = np.mean(arr9_1)\n",
    "median = np.median(arr9_1)\n",
    "std_dev = np.std(arr9_1)\n",
    "print(\"Array:\\n\", arr9_1)\n",
    "print(\"Mean:\", mean)\n",
    "print(\"Median:\", median)\n",
    "print(\"Standard Deviation:\", std_dev)   "
   ]
  },
  {
   "cell_type": "markdown",
   "metadata": {},
   "source": [
    "Ques on 10: Linear Algebra  \n",
    "10.1 Create a 3x3 matrix: \n",
    "A = \n",
    "[[2 1 3]\n",
    "[0 5 6]\n",
    "[7 8 9]]\n",
    " \n",
    "10.2 Perform the following opera ons: \n",
    " Find the determinant of matrix A. \n",
    " Compute the inverse of matrix A. \n",
    " Find the eigenvalues and eigenvectors of matrix A."
   ]
  },
  {
   "cell_type": "code",
   "execution_count": 40,
   "metadata": {},
   "outputs": [
    {
     "name": "stdout",
     "output_type": "stream",
     "text": [
      "Matrix:\n",
      " [[2 1 3]\n",
      " [0 5 6]\n",
      " [7 8 9]]\n",
      "Determinant: -68.99999999999996\n",
      "Inverse:\n",
      " [[ 0.04347826 -0.2173913   0.13043478]\n",
      " [-0.60869565  0.04347826  0.17391304]\n",
      " [ 0.50724638  0.13043478 -0.14492754]]\n",
      "Eigen Values: [15.45215427  2.40475147 -1.85690573]\n",
      "Eigen Vectors:\n",
      " [[-0.22453607 -0.55941438 -0.38300969]\n",
      " [-0.48513596  0.7607706  -0.60830181]\n",
      " [-0.84511931 -0.3290648   0.69517803]]\n"
     ]
    }
   ],
   "source": [
    "mat10_1 = np.matrix([[2,1,3], [0, 5, 6], [7, 8, 9]])\n",
    "\n",
    "det = np.linalg.det(mat10_1)\n",
    "inv = np.linalg.inv(mat10_1)\n",
    "val, vec = np.linalg.eig(mat10_1)\n",
    "print(\"Matrix:\\n\", mat10_1)\n",
    "print(\"Determinant:\", det)\n",
    "print(\"Inverse:\\n\", inv)\n",
    "print(\"Eigen Values:\", val)\n",
    "print(\"Eigen Vectors:\\n\", vec)"
   ]
  }
 ],
 "metadata": {
  "kernelspec": {
   "display_name": "Python 3",
   "language": "python",
   "name": "python3"
  },
  "language_info": {
   "codemirror_mode": {
    "name": "ipython",
    "version": 3
   },
   "file_extension": ".py",
   "mimetype": "text/x-python",
   "name": "python",
   "nbconvert_exporter": "python",
   "pygments_lexer": "ipython3",
   "version": "3.12.3"
  }
 },
 "nbformat": 4,
 "nbformat_minor": 2
}
