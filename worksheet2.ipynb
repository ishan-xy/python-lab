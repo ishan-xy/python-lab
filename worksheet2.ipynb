{
  "nbformat": 4,
  "nbformat_minor": 0,
  "metadata": {
    "colab": {
      "provenance": [],
      "authorship_tag": "ABX9TyPuncGhi0g//57YLZ15y6KK",
      "include_colab_link": true
    },
    "kernelspec": {
      "name": "python3",
      "display_name": "Python 3"
    },
    "language_info": {
      "name": "python"
    }
  },
  "cells": [
    {
      "cell_type": "markdown",
      "metadata": {
        "id": "view-in-github",
        "colab_type": "text"
      },
      "source": [
        "<a href=\"https://colab.research.google.com/github/ishan-xy/python-lab/blob/main/worksheet2.ipynb\" target=\"_parent\"><img src=\"https://colab.research.google.com/assets/colab-badge.svg\" alt=\"Open In Colab\"/></a>"
      ]
    },
    {
      "cell_type": "markdown",
      "source": [
        "1. L is a list defined as L= [11, 12, 13, 14]."
      ],
      "metadata": {
        "id": "K4Awov3REG6H"
      }
    },
    {
      "cell_type": "markdown",
      "source": [
        "1. L is a list defined as L= [11, 12, 13, 14].\n",
        "\n",
        "\n",
        "*   WAP to add 50 and 60 to L.\n",
        "*   WAP to remove 11 and 13 from L.\n",
        "*   WAP to sort L in ascending order.\n",
        "*   WAP to sort L in descending order.\n",
        "*   WAP to search for 13 in L.\n",
        "*   WAP to count the number of elements present in L.\n",
        "*   WAP to sum all the elements in L.\n",
        "*   WAP to sum all ODD numbers in L.\n",
        "*   WAP to sum all EVEN numbers in L.\n",
        "*   WAP to sum all PRIME numbers in L.\n",
        "*   WAP to clear all the elements in L.\n",
        "*   WAP to delete L.\n",
        "\n"
      ],
      "metadata": {
        "id": "U9pZdMl5EM0i"
      }
    },
    {
      "cell_type": "code",
      "execution_count": 3,
      "metadata": {
        "colab": {
          "base_uri": "https://localhost:8080/"
        },
        "id": "mBhMR6JqEEJ7",
        "outputId": "f1162cb8-007e-4cd0-90db-6f9325567aae"
      },
      "outputs": [
        {
          "output_type": "stream",
          "name": "stdout",
          "text": [
            "Found 13: False\n",
            "Number of elements: 4\n",
            "Sum of all elements: 136\n",
            "Sum of odd numbers: 0\n",
            "Sum of even numbers: 136\n",
            "Sum of prime numbers: 0\n"
          ]
        }
      ],
      "source": [
        "L = [11, 12, 13, 14]\n",
        "\n",
        "# (i) WAP to add 50 and 60 to L\n",
        "L.append(50)\n",
        "L.append(60)\n",
        "\n",
        "# (ii) WAP to remove 11 and 13 from L\n",
        "L.remove(11)\n",
        "L.remove(13)\n",
        "\n",
        "# (iii) WAP to sort L in ascending order\n",
        "L.sort()\n",
        "\n",
        "# (iv) WAP to sort L in descending order\n",
        "L.sort(reverse=True)\n",
        "\n",
        "# (v) WAP to search for 13 in L\n",
        "for element in L:\n",
        "    if element == 13:\n",
        "        found = True\n",
        "        break\n",
        "else:\n",
        "    found = False\n",
        "print(\"Found 13:\", found)\n",
        "\n",
        "# (vi) WAP to count the number of elements present in L\n",
        "count = len(L)\n",
        "print(\"Number of elements:\", count)\n",
        "\n",
        "# (vii) WAP to sum all the elements in L\n",
        "total_sum = 0\n",
        "for element in L:\n",
        "    total_sum += element\n",
        "print(\"Sum of all elements:\", total_sum)\n",
        "\n",
        "# (viii) WAP to sum all ODD numbers in L\n",
        "odd_sum = 0\n",
        "for num in L:\n",
        "    if num % 2 != 0:\n",
        "        odd_sum += num\n",
        "print(\"Sum of odd numbers:\", odd_sum)\n",
        "\n",
        "# (ix) WAP to sum all EVEN numbers in L\n",
        "even_sum = 0\n",
        "for num in L:\n",
        "    if num % 2 == 0:\n",
        "        even_sum += num\n",
        "print(\"Sum of even numbers:\", even_sum)\n",
        "\n",
        "# (x) WAP to sum all PRIME numbers in L\n",
        "def is_prime(n):\n",
        "    if n < 2:\n",
        "        return False\n",
        "    for i in range(2, int(n ** 0.5) + 1):\n",
        "        if n % i == 0:\n",
        "            return False\n",
        "    return True\n",
        "\n",
        "prime_sum = 0\n",
        "for num in L:\n",
        "    if is_prime(num):\n",
        "        prime_sum += num\n",
        "print(\"Sum of prime numbers:\", prime_sum)\n",
        "\n",
        "# (xi) WAP to clear all the elements in L\n",
        "L.clear()\n",
        "\n",
        "# (xii) WAP to delete L\n",
        "del L\n"
      ]
    },
    {
      "cell_type": "markdown",
      "source": [
        "Write a Python program to sum all the items in a list without using any inbuilt function."
      ],
      "metadata": {
        "id": "wRGkpkZZG3Dm"
      }
    },
    {
      "cell_type": "code",
      "source": [
        "my_list = [1, 2, 3, 4]\n",
        "total = 0\n",
        "for num in my_list:\n",
        "    total += num\n",
        "print(\"Sum of the list:\", total)"
      ],
      "metadata": {
        "colab": {
          "base_uri": "https://localhost:8080/"
        },
        "id": "7MzPemfoG4AG",
        "outputId": "546301b3-eb49-4dbd-cb9c-9464bed72464"
      },
      "execution_count": 4,
      "outputs": [
        {
          "output_type": "stream",
          "name": "stdout",
          "text": [
            "Sum of the list: 10\n"
          ]
        }
      ]
    },
    {
      "cell_type": "markdown",
      "source": [
        "Write a Python program to multiply all the items in a list without using any inbuilt function.\n"
      ],
      "metadata": {
        "id": "cVK3mKyRG7HH"
      }
    },
    {
      "cell_type": "code",
      "source": [
        "my_list = [1, 2, 3, 4]\n",
        "product = 1\n",
        "for num in my_list:\n",
        "    product *= num\n",
        "print(\"Product of the list:\", product)\n"
      ],
      "metadata": {
        "colab": {
          "base_uri": "https://localhost:8080/"
        },
        "id": "HE44bu6QG8pD",
        "outputId": "ea7b192f-d0d6-43b6-cef5-33fd257d3584"
      },
      "execution_count": 5,
      "outputs": [
        {
          "output_type": "stream",
          "name": "stdout",
          "text": [
            "Product of the list: 24\n"
          ]
        }
      ]
    },
    {
      "cell_type": "markdown",
      "source": [
        "Write a Python program to generate a 3 * 4 * 6 3D array whose each element is *\n",
        "\n"
      ],
      "metadata": {
        "id": "DCScac5wHL5-"
      }
    },
    {
      "cell_type": "code",
      "source": [
        "rows = 3\n",
        "cols = 4\n",
        "depth = 6\n",
        "\n",
        "array_3d = []\n",
        "for i in range(rows):\n",
        "  row = []\n",
        "  for j in range(cols):\n",
        "    col = []\n",
        "    for k in range(depth):\n",
        "      col.append(\"*\")\n",
        "    row.append(col)\n",
        "  array_3d.append(row)\n",
        "\n",
        "print(array_3d)\n"
      ],
      "metadata": {
        "colab": {
          "base_uri": "https://localhost:8080/"
        },
        "id": "byIvmbubHMsm",
        "outputId": "f13f1440-0cb7-43df-8bce-f06e76500190"
      },
      "execution_count": 9,
      "outputs": [
        {
          "output_type": "stream",
          "name": "stdout",
          "text": [
            "[[['*', '*', '*', '*', '*', '*'], ['*', '*', '*', '*', '*', '*'], ['*', '*', '*', '*', '*', '*'], ['*', '*', '*', '*', '*', '*']], [['*', '*', '*', '*', '*', '*'], ['*', '*', '*', '*', '*', '*'], ['*', '*', '*', '*', '*', '*'], ['*', '*', '*', '*', '*', '*']], [['*', '*', '*', '*', '*', '*'], ['*', '*', '*', '*', '*', '*'], ['*', '*', '*', '*', '*', '*'], ['*', '*', '*', '*', '*', '*']]]\n"
          ]
        }
      ]
    },
    {
      "cell_type": "markdown",
      "source": [
        "D is a dictionary defined as D= {1:5.6, 2:7.8, 3:6.6, 4:8.7, 5:7.7}.\n",
        "<br>\n",
        "(i) WAP to add new entry in D; key=8 and value is 8.8<br>\n",
        "(ii) WAP to remove key=2.<br>\n",
        "(iii) WAP to check weather 6 key is present in D.<br>\n",
        "(iv) WAP to count the number of elements present in D.<br>\n",
        "(v) WAP to add all the values present D.<br>\n",
        "(vi) WAP to update the value of 3 to 7.1.<br>\n",
        "(vii) WAP to clear the dictionary. <br>"
      ],
      "metadata": {
        "id": "WsGbRf67ICY5"
      }
    },
    {
      "cell_type": "code",
      "source": [
        "D = {1: 5.6, 2: 7.8, 3: 6.6, 4: 8.7, 5: 7.7}\n",
        "\n",
        "# (i) WAP to add new entry in D; key=8 and value=8.8\n",
        "D[8] = 8.8\n",
        "\n",
        "# (ii) WAP to remove key=2\n",
        "D.pop(2)\n",
        "\n",
        "# (iii) WAP to check whether key=6 is present in D\n",
        "key_exists = 6 in D\n",
        "print(\"Key 6 exists:\", key_exists)\n",
        "\n",
        "# (iv) WAP to count the number of elements present in D\n",
        "count = len(D)\n",
        "print(\"Number of elements in D:\", count)\n",
        "\n",
        "# (v) WAP to add all the values present in D\n",
        "total_sum = sum(D.values())\n",
        "print(\"Sum of values in D:\", total_sum)\n",
        "\n",
        "# (vi) WAP to update the value of key=3 to 7.1\n",
        "D[3] = 7.1\n",
        "\n",
        "# (vii) WAP to clear the dictionary\n",
        "D.clear()"
      ],
      "metadata": {
        "colab": {
          "base_uri": "https://localhost:8080/"
        },
        "id": "cwMi3ziVIcNh",
        "outputId": "f4be8ea2-8a51-4e74-b876-e19a9a8d49d6"
      },
      "execution_count": 10,
      "outputs": [
        {
          "output_type": "stream",
          "name": "stdout",
          "text": [
            "Key 6 exists: False\n",
            "Number of elements in D: 5\n",
            "Sum of values in D: 37.4\n"
          ]
        }
      ]
    },
    {
      "cell_type": "markdown",
      "source": [
        "S1 is a set defined as S1= [10, 20, 30, 40, 50, 60]. S2 is a set defined as S2= [40, 50, 60, 70, 80,\n",
        "90]. <br>\n",
        "(i) WAP to add 55 and 66 in Set S1. <br>\n",
        "(ii) WAP to remove 10 and 30 from Set S1. <br>\n",
        "(iii) WAP to check whether 40 is present in S1. <br>\n",
        "(iv) WAP to find the union between S1 and S2. <br>\n",
        "(v) WAP to find the intersection between S1 and S2. <br>\n",
        "(vi) WAP to find the S1 - S2.<br>"
      ],
      "metadata": {
        "id": "mDX2VvvOIy6H"
      }
    },
    {
      "cell_type": "markdown",
      "source": [],
      "metadata": {
        "id": "q6m4OzslFSv-"
      }
    },
    {
      "cell_type": "code",
      "source": [
        "S1 = {10, 20, 30, 40, 50, 60}\n",
        "S2 = {40, 50, 60, 70, 80, 90}\n",
        "\n",
        "# (i) WAP to add 55 and 66 in Set S1\n",
        "S1.add(55)\n",
        "S1.add(66)\n",
        "\n",
        "# (ii) WAP to remove 10 and 30 from Set S1\n",
        "S1.discard(10)\n",
        "S1.discard(30)\n",
        "\n",
        "# (iii) WAP to check whether 40 is present in S1\n",
        "found = 40 in S1\n",
        "print(\"40 in S1:\", found)\n",
        "\n",
        "# (iv) WAP to find the union between S1 and S2\n",
        "union_set = S1.union(S2)\n",
        "print(\"Union of S1 and S2:\", union_set)\n",
        "\n",
        "# (v) WAP to find the intersection between S1 and S2\n",
        "intersection_set = S1.intersection(S2)\n",
        "print(\"Intersection of S1 and S2:\", intersection_set)\n",
        "\n",
        "# (vi) WAP to find the S1 - S2\n",
        "difference_set = S1.difference(S2)\n",
        "print(\"Difference S1 - S2:\", difference_set)"
      ],
      "metadata": {
        "colab": {
          "base_uri": "https://localhost:8080/"
        },
        "id": "Uy-FdpfpJCzj",
        "outputId": "88f11301-230b-4806-9869-f8c9080327eb"
      },
      "execution_count": 11,
      "outputs": [
        {
          "output_type": "stream",
          "name": "stdout",
          "text": [
            "40 in S1: True\n",
            "Union of S1 and S2: {66, 70, 40, 80, 50, 20, 55, 90, 60}\n",
            "Intersection of S1 and S2: {40, 50, 60}\n",
            "Difference S1 - S2: {66, 20, 55}\n"
          ]
        }
      ]
    },
    {
      "cell_type": "markdown",
      "source": [
        "Write the following program.<br>\n",
        "(i) WAP to print 100 random strings whose length between 6 and 8.<br>\n",
        "(ii) WAP to print all prime numbers between 600 and 800. <br>\n",
        "(iii) WAP to print all numbers between 100 and 1000 that are divisible by 7 and 9."
      ],
      "metadata": {
        "id": "RdJzRXUoJRhj"
      }
    },
    {
      "cell_type": "markdown",
      "source": [],
      "metadata": {
        "id": "q2QpesWIKEbp"
      }
    },
    {
      "cell_type": "code",
      "source": [
        "import random\n",
        "import string\n",
        "\n",
        "# (i) WAP to print 100 random strings whose length is between 6 and 8\n",
        "for i in range(100):\n",
        "    length = random.randint(6, 8)\n",
        "    random_string = ''\n",
        "    for j in range(length):\n",
        "        random_string += random.choice(string.ascii_letters)\n",
        "\n",
        "    print(random_string)\n",
        "\n",
        "# (ii) WAP to print all prime numbers between 600 and 800\n",
        "for num in range(600, 801):\n",
        "    if is_prime(num):\n",
        "        print(num)\n",
        "\n",
        "# (iii) WAP to print all numbers between 100 and 1000 that are divisible by 7 and 9\n",
        "for num in range(100, 1001):\n",
        "    if num % 7 == 0 and num % 9 == 0:\n",
        "        print(num)"
      ],
      "metadata": {
        "colab": {
          "base_uri": "https://localhost:8080/"
        },
        "id": "8KisPtByJXI4",
        "outputId": "7d9e54a5-c8e7-4d2b-9378-e564f0b2b2bf"
      },
      "execution_count": 12,
      "outputs": [
        {
          "output_type": "stream",
          "name": "stdout",
          "text": [
            "YvoBHWgP\n",
            "drRJWB\n",
            "aWPXpeuH\n",
            "VQFZsJ\n",
            "tOJfeze\n",
            "MjRdceml\n",
            "cCsDuNA\n",
            "zTsezJF\n",
            "JtcibLam\n",
            "nyXlqjz\n",
            "DpaDgFhn\n",
            "sAXffD\n",
            "BfQGIzl\n",
            "EPDgUb\n",
            "jDBZMag\n",
            "aWdtymrq\n",
            "cLuGNbk\n",
            "HqZZTMIq\n",
            "CpImct\n",
            "iKrDrFl\n",
            "Ugcqtkmd\n",
            "sekSHsnw\n",
            "rUUAPi\n",
            "hWqNPN\n",
            "aINhsmi\n",
            "BKPiEsXk\n",
            "ilZcRIyu\n",
            "yJHhSpUK\n",
            "sWkBoQr\n",
            "DcbbzY\n",
            "yrpNZn\n",
            "JKYSlYIk\n",
            "HADovJ\n",
            "aAlerIj\n",
            "yukpTDtB\n",
            "POMoae\n",
            "AmcVlkz\n",
            "jQqGhIV\n",
            "HuKQwG\n",
            "rKrICnQ\n",
            "FjqVldh\n",
            "xDcCil\n",
            "RRgAeEhO\n",
            "rEUxVrUB\n",
            "VzqYWFw\n",
            "Sbuvuo\n",
            "hZDmYR\n",
            "AXwZBgF\n",
            "fFHLjlK\n",
            "AGlUnGXO\n",
            "YRAEkPW\n",
            "eXStiu\n",
            "WMlMeFmM\n",
            "ddGTfNr\n",
            "RxeHnU\n",
            "drFZgq\n",
            "NGBvmW\n",
            "quOFocPp\n",
            "TAiXOSaq\n",
            "vvgrGjq\n",
            "joYIFAR\n",
            "htQkiWsR\n",
            "FElAmwz\n",
            "FeVKodu\n",
            "PfEHDJ\n",
            "ANUihud\n",
            "qahpQKl\n",
            "AxxjLUE\n",
            "YgcnASL\n",
            "oIAOUB\n",
            "QimNmh\n",
            "QmpJtbk\n",
            "LGqVXJV\n",
            "ZdirDfLk\n",
            "ZUsyPP\n",
            "zenwjHXd\n",
            "bbzfqj\n",
            "DVASQSY\n",
            "uIUfYXaP\n",
            "MTNAJK\n",
            "rAzFBL\n",
            "aRzmMd\n",
            "guZONY\n",
            "gnJzhkSt\n",
            "iBZETPl\n",
            "AIjhvu\n",
            "HIGouy\n",
            "mmJwtbeT\n",
            "qgPXDy\n",
            "eIyZvOh\n",
            "ExwhsqiY\n",
            "KZQWBX\n",
            "PkIoypM\n",
            "nWivva\n",
            "YsfLHm\n",
            "bZITZD\n",
            "mjMDrU\n",
            "lmbYRU\n",
            "lKTDQMHu\n",
            "KnoQUwnj\n",
            "601\n",
            "607\n",
            "613\n",
            "617\n",
            "619\n",
            "631\n",
            "641\n",
            "643\n",
            "647\n",
            "653\n",
            "659\n",
            "661\n",
            "673\n",
            "677\n",
            "683\n",
            "691\n",
            "701\n",
            "709\n",
            "719\n",
            "727\n",
            "733\n",
            "739\n",
            "743\n",
            "751\n",
            "757\n",
            "761\n",
            "769\n",
            "773\n",
            "787\n",
            "797\n",
            "126\n",
            "189\n",
            "252\n",
            "315\n",
            "378\n",
            "441\n",
            "504\n",
            "567\n",
            "630\n",
            "693\n",
            "756\n",
            "819\n",
            "882\n",
            "945\n"
          ]
        }
      ]
    },
    {
      "cell_type": "markdown",
      "source": [
        "Write a Python program to display the examination schedule. (extract the date from\n",
        "exam_st_date). exam_st_date = (11, 12, 2014)"
      ],
      "metadata": {
        "id": "KxCvgGY2KFpI"
      }
    },
    {
      "cell_type": "code",
      "source": [
        "exam_st_date = (11, 12, 2014)\n",
        "print(\"The examination will start from: %d/%d/%d\" % exam_st_date)"
      ],
      "metadata": {
        "colab": {
          "base_uri": "https://localhost:8080/"
        },
        "id": "5yfwwtOaKGwE",
        "outputId": "61071249-36a8-4467-ea50-b1b52b5f7c39"
      },
      "execution_count": 13,
      "outputs": [
        {
          "output_type": "stream",
          "name": "stdout",
          "text": [
            "The examination will start from: 11/12/2014\n"
          ]
        }
      ]
    },
    {
      "cell_type": "markdown",
      "source": [
        "Iterate the given list of numbers and print only those numbers which are divisible by 5."
      ],
      "metadata": {
        "id": "K01laPAZKMV_"
      }
    },
    {
      "cell_type": "code",
      "source": [
        "numbers = [10, 23, 45, 55, 12, 30]\n",
        "for num in numbers:\n",
        "    if num % 5 == 0:\n",
        "        print(num)"
      ],
      "metadata": {
        "colab": {
          "base_uri": "https://localhost:8080/"
        },
        "id": "AlGgGWhLKNfm",
        "outputId": "632c4e58-12ff-4e47-e061-73a79f3f5dfe"
      },
      "execution_count": 1,
      "outputs": [
        {
          "output_type": "stream",
          "name": "stdout",
          "text": [
            "10\n",
            "45\n",
            "55\n",
            "30\n"
          ]
        }
      ]
    },
    {
      "cell_type": "markdown",
      "source": [
        "Write a Python program to check if a given number is even or odd using boolean variables."
      ],
      "metadata": {
        "id": "YmrXxapUKgPd"
      }
    },
    {
      "cell_type": "code",
      "source": [
        "num = int(input(\"Enter a number: \"))\n",
        "is_even = (num % 2 == 0)\n",
        "if is_even:\n",
        "  print(\"Even\")\n",
        "else:\n",
        "  print(\"Odd\")"
      ],
      "metadata": {
        "colab": {
          "base_uri": "https://localhost:8080/"
        },
        "id": "vXBKPDriKiec",
        "outputId": "887ea38b-11bb-47da-861d-d8047e0d10bf"
      },
      "execution_count": 4,
      "outputs": [
        {
          "output_type": "stream",
          "name": "stdout",
          "text": [
            "Enter a number: 45\n",
            "Odd\n"
          ]
        }
      ]
    },
    {
      "cell_type": "markdown",
      "source": [
        "Write a program to find how many times substring “Emma” appears in the given string."
      ],
      "metadata": {
        "id": "5fna-RvsK2Yb"
      }
    },
    {
      "cell_type": "code",
      "source": [
        "text = \"Emma is a good developer. Emma loves coding. Emma is cool.\"\n",
        "count = text.count(\"Emma\")\n",
        "print(\"Emma appears\", count, \"times\")"
      ],
      "metadata": {
        "colab": {
          "base_uri": "https://localhost:8080/"
        },
        "id": "rHZxbNRbKtnK",
        "outputId": "f8a8edde-f107-4de4-efb4-08fb91380a90"
      },
      "execution_count": 5,
      "outputs": [
        {
          "output_type": "stream",
          "name": "stdout",
          "text": [
            "Emma appears 3 times\n"
          ]
        }
      ]
    },
    {
      "cell_type": "markdown",
      "source": [
        "Create a new list from two list using the following condition, Given two list of numbers, write\n",
        "a program to create a new list such that the new list should contain odd numbers from the first\n",
        "list and even numbers from the second list."
      ],
      "metadata": {
        "id": "AFdmUwZTK79L"
      }
    },
    {
      "cell_type": "code",
      "source": [
        "list1 = [1, 2, 3, 4, 5, 6]\n",
        "list2 = [7, 8, 9, 10, 11, 12]\n",
        "new_list = []\n",
        "for num in list1:\n",
        "    if num % 2 != 0:\n",
        "        new_list.append(num)\n",
        "for num in list2:\n",
        "    if num % 2 == 0:\n",
        "        new_list.append(num)\n",
        "print(new_list)"
      ],
      "metadata": {
        "colab": {
          "base_uri": "https://localhost:8080/"
        },
        "id": "dSslgI51K8jy",
        "outputId": "978a6a31-4a24-48b2-e239-d9643d07255b"
      },
      "execution_count": 6,
      "outputs": [
        {
          "output_type": "stream",
          "name": "stdout",
          "text": [
            "[1, 3, 5, 8, 10, 12]\n"
          ]
        }
      ]
    },
    {
      "cell_type": "markdown",
      "source": [],
      "metadata": {
        "id": "Ti5VlxTSK0nH"
      }
    }
  ]
}